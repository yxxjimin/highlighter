{
 "cells": [
  {
   "cell_type": "code",
   "execution_count": 1,
   "id": "6e813da8",
   "metadata": {},
   "outputs": [],
   "source": [
    "import boto3\n",
    "\n",
    "sqs = boto3.client('sqs')"
   ]
  },
  {
   "cell_type": "code",
   "execution_count": 2,
   "id": "e9c2c381",
   "metadata": {},
   "outputs": [],
   "source": [
    "response = sqs.get_queue_url(QueueName='highlighter.fifo')\n",
    "queue_url = response[\"QueueUrl\"]"
   ]
  },
  {
   "cell_type": "code",
   "execution_count": 8,
   "id": "4f503581",
   "metadata": {},
   "outputs": [
    {
     "name": "stdout",
     "output_type": "stream",
     "text": [
      "<class 'datetime.datetime'>\n"
     ]
    }
   ],
   "source": [
    "import datetime\n",
    "\n",
    "print(type(datetime.datetime.now()))"
   ]
  },
  {
   "cell_type": "code",
   "execution_count": 9,
   "id": "525ce046",
   "metadata": {},
   "outputs": [],
   "source": [
    "response = sqs.send_message(\n",
    "    QueueUrl=queue_url,\n",
    "    MessageAttributes={\n",
    "        \"Timestamp\": {\n",
    "            \"DataType\": \"String\",\n",
    "            \"StringValue\": str(datetime.datetime.now())\n",
    "        }\n",
    "    },\n",
    "    MessageBody=(\n",
    "        \"Information about current NY Times fiction bestseller for \"\n",
    "        \"week of 12/11/2016.\"\n",
    "    ),\n",
    "    MessageGroupId=\"1\",\n",
    "    MessageDeduplicationId=\"1\",\n",
    ")"
   ]
  },
  {
   "cell_type": "code",
   "execution_count": 10,
   "id": "74eda5f0",
   "metadata": {},
   "outputs": [
    {
     "name": "stdout",
     "output_type": "stream",
     "text": [
      "f05218f2-da9f-43ed-8aee-43aeac3889dd\n"
     ]
    }
   ],
   "source": [
    "print(response[\"MessageId\"])"
   ]
  },
  {
   "cell_type": "code",
   "execution_count": 33,
   "id": "0ebc2996",
   "metadata": {
    "scrolled": true
   },
   "outputs": [],
   "source": [
    "response = sqs.receive_message(\n",
    "    QueueUrl=queue_url,\n",
    "    AttributeNames=[\n",
    "        'All'\n",
    "    ],\n",
    "    MaxNumberOfMessages=1,\n",
    "    MessageAttributeNames=[\n",
    "        'All'\n",
    "    ],\n",
    "    VisibilityTimeout=100,\n",
    "    WaitTimeSeconds=0\n",
    ")"
   ]
  },
  {
   "cell_type": "code",
   "execution_count": 41,
   "id": "84fa568e",
   "metadata": {},
   "outputs": [
    {
     "name": "stdout",
     "output_type": "stream",
     "text": [
      "{'ResponseMetadata': {'RequestId': 'fb7f413f-5d93-55fc-a5fb-1f8dc3ad200e', 'HTTPStatusCode': 200, 'HTTPHeaders': {'x-amzn-requestid': 'fb7f413f-5d93-55fc-a5fb-1f8dc3ad200e', 'date': 'Mon, 06 May 2024 08:59:42 GMT', 'content-type': 'application/x-amz-json-1.0', 'content-length': '2', 'connection': 'keep-alive'}, 'RetryAttempts': 0}}\n"
     ]
    }
   ],
   "source": [
    "print(response)"
   ]
  },
  {
   "cell_type": "code",
   "execution_count": null,
   "id": "5ccb8ee4",
   "metadata": {},
   "outputs": [],
   "source": [
    "message = response['Messages'][0]\n",
    "receipt_handle = message['ReceiptHandle']\n",
    "\n",
    "# Delete received message from queue\n",
    "sqs.delete_message(\n",
    "    QueueUrl=queue_url,\n",
    "    ReceiptHandle=receipt_handle\n",
    ")\n",
    "print('Received and deleted message: %s' % message)"
   ]
  },
  {
   "cell_type": "code",
   "execution_count": 24,
   "id": "2d1af959",
   "metadata": {},
   "outputs": [
    {
     "name": "stdout",
     "output_type": "stream",
     "text": [
      "1714985117254\n"
     ]
    }
   ],
   "source": [
    "print(message['Attributes']['SentTimestamp'])"
   ]
  },
  {
   "cell_type": "code",
   "execution_count": 44,
   "id": "12921acb",
   "metadata": {},
   "outputs": [
    {
     "name": "stdout",
     "output_type": "stream",
     "text": [
      "1714986409.274139\n",
      "1292.0202059745789\n"
     ]
    }
   ],
   "source": [
    "import time\n",
    "\n",
    "# `time.time()`: Epoch time in seconds\n",
    "# `SentTimestamp`: Epoch time in milliseconds\n",
    "print(time.time())\n",
    "print(time.time() - float(message['Attributes']['SentTimestamp']) / 1000)"
   ]
  },
  {
   "cell_type": "code",
   "execution_count": 19,
   "id": "3534b78d",
   "metadata": {},
   "outputs": [
    {
     "name": "stdout",
     "output_type": "stream",
     "text": [
      "2024-05-06 17:45:17.110932\n"
     ]
    }
   ],
   "source": [
    "print(message['MessageAttributes']['Timestamp']['StringValue'])"
   ]
  },
  {
   "cell_type": "code",
   "execution_count": 14,
   "id": "7194a63e",
   "metadata": {},
   "outputs": [
    {
     "name": "stdout",
     "output_type": "stream",
     "text": [
      "Information about current NY Times fiction bestseller for week of 12/11/2016.\n"
     ]
    }
   ],
   "source": [
    "print(message['Body'])"
   ]
  },
  {
   "cell_type": "code",
   "execution_count": 58,
   "id": "4376082d",
   "metadata": {},
   "outputs": [
    {
     "data": {
      "text/plain": [
       "{'ResponseMetadata': {'RequestId': '9e8fc2bc-b1ae-5b4c-ac72-9c120990bc99',\n",
       "  'HTTPStatusCode': 200,\n",
       "  'HTTPHeaders': {'x-amzn-requestid': '9e8fc2bc-b1ae-5b4c-ac72-9c120990bc99',\n",
       "   'date': 'Fri, 03 May 2024 10:01:34 GMT',\n",
       "   'content-type': 'application/x-amz-json-1.0',\n",
       "   'content-length': '0',\n",
       "   'connection': 'keep-alive'},\n",
       "  'RetryAttempts': 0}}"
      ]
     },
     "execution_count": 58,
     "metadata": {},
     "output_type": "execute_result"
    }
   ],
   "source": [
    "sqs.purge_queue(QueueUrl=queue_url)"
   ]
  },
  {
   "cell_type": "code",
   "execution_count": 41,
   "id": "d969b75f",
   "metadata": {
    "scrolled": true
   },
   "outputs": [],
   "source": [
    "import base64\n",
    "a = base64.b64decode(message[\"Body\"].encode())"
   ]
  },
  {
   "cell_type": "code",
   "execution_count": 70,
   "id": "75a107e6",
   "metadata": {},
   "outputs": [],
   "source": [
    "with open(\"vid.ts\", \"wb\") as video_file:\n",
    "    while True:\n",
    "        response = sqs.receive_message(\n",
    "            QueueUrl=queue_url,\n",
    "            AttributeNames=[\n",
    "                \"SentTimestamp\"\n",
    "            ],\n",
    "            MaxNumberOfMessages=1,\n",
    "            MessageAttributeNames=[\n",
    "                \"All\"\n",
    "            ],\n",
    "            VisibilityTimeout=100,\n",
    "            WaitTimeSeconds=0 # Short polling\n",
    "        )\n",
    "\n",
    "        # Non-empty response\n",
    "        if \"Messages\" in response:\n",
    "            message = response[\"Messages\"][0]\n",
    "            receipt_handle = message[\"ReceiptHandle\"]\n",
    "\n",
    "            sent_timestamp = message['Attributes']['SentTimestamp']\n",
    "\n",
    "            # Delete received message from queue\n",
    "            sqs.delete_message(\n",
    "                QueueUrl=queue_url,\n",
    "                ReceiptHandle=receipt_handle\n",
    "            )\n",
    "\n",
    "            # TODO: Replace time.time() to given value from Kafka\n",
    "            # trigger_time = ...\n",
    "            if time.time() - float(sent_timestamp) / 1000 > 30:\n",
    "                pass\n",
    "            else:\n",
    "                body = base64.b64decode(message[\"Body\"].encode())\n",
    "                video_file.write(body)\n",
    "        else:\n",
    "            # TODO: Check emptiness of SQS\n",
    "            break"
   ]
  }
 ],
 "metadata": {
  "kernelspec": {
   "display_name": "Python 3 (ipykernel)",
   "language": "python",
   "name": "python3"
  },
  "language_info": {
   "codemirror_mode": {
    "name": "ipython",
    "version": 3
   },
   "file_extension": ".py",
   "mimetype": "text/x-python",
   "name": "python",
   "nbconvert_exporter": "python",
   "pygments_lexer": "ipython3",
   "version": "3.9.17"
  }
 },
 "nbformat": 4,
 "nbformat_minor": 5
}
